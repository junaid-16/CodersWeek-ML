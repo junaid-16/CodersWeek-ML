{
  "nbformat": 4,
  "nbformat_minor": 0,
  "metadata": {
    "colab": {
      "name": "Day5.ipynb",
      "provenance": [],
      "collapsed_sections": []
    },
    "kernelspec": {
      "name": "python3",
      "display_name": "Python 3"
    }
  },
  "cells": [
    {
      "cell_type": "code",
      "metadata": {
        "id": "Vdw134_5ZWXj",
        "colab_type": "code",
        "colab": {
          "base_uri": "https://localhost:8080/",
          "height": 86
        },
        "outputId": "3db99f09-e65a-40f8-d043-ab49c1271195"
      },
      "source": [
        "import pandas as pd\n",
        "import numpy as np\n",
        "import regex as re\n",
        "import nltk\n",
        "from nltk.corpus import stopwords\n",
        "nltk.download('stopwords')\n",
        "from nltk.stem import WordNetLemmatizer\n",
        "nltk.download('wordnet')\n",
        "from textblob import TextBlob\n",
        "from matplotlib import pyplot as plt"
      ],
      "execution_count": 60,
      "outputs": [
        {
          "output_type": "stream",
          "text": [
            "[nltk_data] Downloading package stopwords to /root/nltk_data...\n",
            "[nltk_data]   Package stopwords is already up-to-date!\n",
            "[nltk_data] Downloading package wordnet to /root/nltk_data...\n",
            "[nltk_data]   Package wordnet is already up-to-date!\n"
          ],
          "name": "stdout"
        }
      ]
    },
    {
      "cell_type": "markdown",
      "metadata": {
        "id": "_WlgHzJea7Wd",
        "colab_type": "text"
      },
      "source": [
        "first manually upload csv file in colab"
      ]
    },
    {
      "cell_type": "code",
      "metadata": {
        "id": "QwhH2ct5bEHb",
        "colab_type": "code",
        "colab": {}
      },
      "source": [
        "raw_data = pd.read_csv('/content/tweets.csv')"
      ],
      "execution_count": 0,
      "outputs": []
    },
    {
      "cell_type": "markdown",
      "metadata": {
        "id": "e-zwpvRyhztb",
        "colab_type": "text"
      },
      "source": [
        "Adding a column name in dataframe"
      ]
    },
    {
      "cell_type": "code",
      "metadata": {
        "id": "YfCzo5nDbwg4",
        "colab_type": "code",
        "outputId": "6e03dd63-3da6-498d-dabe-ee2fdab4c0e5",
        "colab": {
          "base_uri": "https://localhost:8080/",
          "height": 206
        }
      },
      "source": [
        "raw_data.columns = ['Timestamp','Tweet']\n",
        "raw_data.head()"
      ],
      "execution_count": 62,
      "outputs": [
        {
          "output_type": "execute_result",
          "data": {
            "text/html": [
              "<div>\n",
              "<style scoped>\n",
              "    .dataframe tbody tr th:only-of-type {\n",
              "        vertical-align: middle;\n",
              "    }\n",
              "\n",
              "    .dataframe tbody tr th {\n",
              "        vertical-align: top;\n",
              "    }\n",
              "\n",
              "    .dataframe thead th {\n",
              "        text-align: right;\n",
              "    }\n",
              "</style>\n",
              "<table border=\"1\" class=\"dataframe\">\n",
              "  <thead>\n",
              "    <tr style=\"text-align: right;\">\n",
              "      <th></th>\n",
              "      <th>Timestamp</th>\n",
              "      <th>Tweet</th>\n",
              "    </tr>\n",
              "  </thead>\n",
              "  <tbody>\n",
              "    <tr>\n",
              "      <th>0</th>\n",
              "      <td>2020-06-06 15:16:02</td>\n",
              "      <td>b'YALGAAR KO FATKAAR  trailer ||  YALGAAR REAC...</td>\n",
              "    </tr>\n",
              "    <tr>\n",
              "      <th>1</th>\n",
              "      <td>2020-06-06 15:10:28</td>\n",
              "      <td>b'So much to think\\xf0\\x9f\\x92\\xad, to do, to ...</td>\n",
              "    </tr>\n",
              "    <tr>\n",
              "      <th>2</th>\n",
              "      <td>2020-06-06 15:05:23</td>\n",
              "      <td>b\"Hey everyone, help me to reach 1k subscriber...</td>\n",
              "    </tr>\n",
              "    <tr>\n",
              "      <th>3</th>\n",
              "      <td>2020-06-06 15:03:44</td>\n",
              "      <td>b'Carry - The Taste of India\\n\\n#carryminati #...</td>\n",
              "    </tr>\n",
              "    <tr>\n",
              "      <th>4</th>\n",
              "      <td>2020-06-06 15:03:21</td>\n",
              "      <td>b\"@swatic12 I don't know what will I say but #...</td>\n",
              "    </tr>\n",
              "  </tbody>\n",
              "</table>\n",
              "</div>"
            ],
            "text/plain": [
              "             Timestamp                                              Tweet\n",
              "0  2020-06-06 15:16:02  b'YALGAAR KO FATKAAR  trailer ||  YALGAAR REAC...\n",
              "1  2020-06-06 15:10:28  b'So much to think\\xf0\\x9f\\x92\\xad, to do, to ...\n",
              "2  2020-06-06 15:05:23  b\"Hey everyone, help me to reach 1k subscriber...\n",
              "3  2020-06-06 15:03:44  b'Carry - The Taste of India\\n\\n#carryminati #...\n",
              "4  2020-06-06 15:03:21  b\"@swatic12 I don't know what will I say but #..."
            ]
          },
          "metadata": {
            "tags": []
          },
          "execution_count": 62
        }
      ]
    },
    {
      "cell_type": "markdown",
      "metadata": {
        "id": "GQf5Tc8EvjQe",
        "colab_type": "text"
      },
      "source": [
        "**preprocessing the data**"
      ]
    },
    {
      "cell_type": "code",
      "metadata": {
        "id": "1S6ru6M8rRIr",
        "colab_type": "code",
        "colab": {
          "base_uri": "https://localhost:8080/",
          "height": 206
        },
        "outputId": "a510aabf-1b0d-4f55-f81a-8d932746433c"
      },
      "source": [
        "#removing 'b' from starting\n",
        "raw_data['clean_tweet'] = raw_data['Tweet'].str[1:]\n",
        "raw_data.head()"
      ],
      "execution_count": 63,
      "outputs": [
        {
          "output_type": "execute_result",
          "data": {
            "text/html": [
              "<div>\n",
              "<style scoped>\n",
              "    .dataframe tbody tr th:only-of-type {\n",
              "        vertical-align: middle;\n",
              "    }\n",
              "\n",
              "    .dataframe tbody tr th {\n",
              "        vertical-align: top;\n",
              "    }\n",
              "\n",
              "    .dataframe thead th {\n",
              "        text-align: right;\n",
              "    }\n",
              "</style>\n",
              "<table border=\"1\" class=\"dataframe\">\n",
              "  <thead>\n",
              "    <tr style=\"text-align: right;\">\n",
              "      <th></th>\n",
              "      <th>Timestamp</th>\n",
              "      <th>Tweet</th>\n",
              "      <th>clean_tweet</th>\n",
              "    </tr>\n",
              "  </thead>\n",
              "  <tbody>\n",
              "    <tr>\n",
              "      <th>0</th>\n",
              "      <td>2020-06-06 15:16:02</td>\n",
              "      <td>b'YALGAAR KO FATKAAR  trailer ||  YALGAAR REAC...</td>\n",
              "      <td>'YALGAAR KO FATKAAR  trailer ||  YALGAAR REACT...</td>\n",
              "    </tr>\n",
              "    <tr>\n",
              "      <th>1</th>\n",
              "      <td>2020-06-06 15:10:28</td>\n",
              "      <td>b'So much to think\\xf0\\x9f\\x92\\xad, to do, to ...</td>\n",
              "      <td>'So much to think\\xf0\\x9f\\x92\\xad, to do, to p...</td>\n",
              "    </tr>\n",
              "    <tr>\n",
              "      <th>2</th>\n",
              "      <td>2020-06-06 15:05:23</td>\n",
              "      <td>b\"Hey everyone, help me to reach 1k subscriber...</td>\n",
              "      <td>\"Hey everyone, help me to reach 1k subscribers...</td>\n",
              "    </tr>\n",
              "    <tr>\n",
              "      <th>3</th>\n",
              "      <td>2020-06-06 15:03:44</td>\n",
              "      <td>b'Carry - The Taste of India\\n\\n#carryminati #...</td>\n",
              "      <td>'Carry - The Taste of India\\n\\n#carryminati #Y...</td>\n",
              "    </tr>\n",
              "    <tr>\n",
              "      <th>4</th>\n",
              "      <td>2020-06-06 15:03:21</td>\n",
              "      <td>b\"@swatic12 I don't know what will I say but #...</td>\n",
              "      <td>\"@swatic12 I don't know what will I say but #y...</td>\n",
              "    </tr>\n",
              "  </tbody>\n",
              "</table>\n",
              "</div>"
            ],
            "text/plain": [
              "             Timestamp  ...                                        clean_tweet\n",
              "0  2020-06-06 15:16:02  ...  'YALGAAR KO FATKAAR  trailer ||  YALGAAR REACT...\n",
              "1  2020-06-06 15:10:28  ...  'So much to think\\xf0\\x9f\\x92\\xad, to do, to p...\n",
              "2  2020-06-06 15:05:23  ...  \"Hey everyone, help me to reach 1k subscribers...\n",
              "3  2020-06-06 15:03:44  ...  'Carry - The Taste of India\\n\\n#carryminati #Y...\n",
              "4  2020-06-06 15:03:21  ...  \"@swatic12 I don't know what will I say but #y...\n",
              "\n",
              "[5 rows x 3 columns]"
            ]
          },
          "metadata": {
            "tags": []
          },
          "execution_count": 63
        }
      ]
    },
    {
      "cell_type": "markdown",
      "metadata": {
        "id": "T5rcyS8wwUle",
        "colab_type": "text"
      },
      "source": [
        "removing RT and '@' and numbers \n",
        "(assuming numbers are not important in our case)"
      ]
    },
    {
      "cell_type": "code",
      "metadata": {
        "id": "zXlRvj85njz7",
        "colab_type": "code",
        "colab": {
          "base_uri": "https://localhost:8080/",
          "height": 363
        },
        "outputId": "5e55610a-592d-41cb-b621-4ecfd32f6884"
      },
      "source": [
        "def remove_pattern(text, pattern_regex):\n",
        "    r = re.findall(pattern_regex, text)\n",
        "    for i in r:\n",
        "        text = re.sub(i, '', text)\n",
        "    \n",
        "    return text\n",
        "raw_data['clean_tweet'] = np.vectorize(remove_pattern)(raw_data['clean_tweet'], \"@[\\w]*: | *RT*\")\n",
        "raw_data['clean_tweet'] = np.vectorize(remove_pattern)(raw_data['clean_tweet'], \"@[A-Za-z0-9]+\")\n",
        "raw_data['clean_tweet'] = raw_data['clean_tweet'].str.replace(\"[^a-zA-Z# ]\", \"\")\n",
        "raw_data.head(10)"
      ],
      "execution_count": 64,
      "outputs": [
        {
          "output_type": "execute_result",
          "data": {
            "text/html": [
              "<div>\n",
              "<style scoped>\n",
              "    .dataframe tbody tr th:only-of-type {\n",
              "        vertical-align: middle;\n",
              "    }\n",
              "\n",
              "    .dataframe tbody tr th {\n",
              "        vertical-align: top;\n",
              "    }\n",
              "\n",
              "    .dataframe thead th {\n",
              "        text-align: right;\n",
              "    }\n",
              "</style>\n",
              "<table border=\"1\" class=\"dataframe\">\n",
              "  <thead>\n",
              "    <tr style=\"text-align: right;\">\n",
              "      <th></th>\n",
              "      <th>Timestamp</th>\n",
              "      <th>Tweet</th>\n",
              "      <th>clean_tweet</th>\n",
              "    </tr>\n",
              "  </thead>\n",
              "  <tbody>\n",
              "    <tr>\n",
              "      <th>0</th>\n",
              "      <td>2020-06-06 15:16:02</td>\n",
              "      <td>b'YALGAAR KO FATKAAR  trailer ||  YALGAAR REAC...</td>\n",
              "      <td>YALGAA KO FATKAA  trailer   YALGAA EACTIONS  C...</td>\n",
              "    </tr>\n",
              "    <tr>\n",
              "      <th>1</th>\n",
              "      <td>2020-06-06 15:10:28</td>\n",
              "      <td>b'So much to think\\xf0\\x9f\\x92\\xad, to do, to ...</td>\n",
              "      <td>So much to thinkxfxfxxad to do to produce to a...</td>\n",
              "    </tr>\n",
              "    <tr>\n",
              "      <th>2</th>\n",
              "      <td>2020-06-06 15:05:23</td>\n",
              "      <td>b\"Hey everyone, help me to reach 1k subscriber...</td>\n",
              "      <td>Hey everyone help me to reach k subscribers Su...</td>\n",
              "    </tr>\n",
              "    <tr>\n",
              "      <th>3</th>\n",
              "      <td>2020-06-06 15:03:44</td>\n",
              "      <td>b'Carry - The Taste of India\\n\\n#carryminati #...</td>\n",
              "      <td>Carry  The Taste of Indiann#carryminati #Yalga...</td>\n",
              "    </tr>\n",
              "    <tr>\n",
              "      <th>4</th>\n",
              "      <td>2020-06-06 15:03:21</td>\n",
              "      <td>b\"@swatic12 I don't know what will I say but #...</td>\n",
              "      <td>I dont know what will I say but #yalgaarho wi...</td>\n",
              "    </tr>\n",
              "    <tr>\n",
              "      <th>5</th>\n",
              "      <td>2020-06-06 15:02:14</td>\n",
              "      <td>b'Thanx for the best gift\\xf0\\x9f\\x92\\xaa\\xf0\\...</td>\n",
              "      <td>Thanx for the best giftxfxfxxaaxfxfxxaxexdxaxe...</td>\n",
              "    </tr>\n",
              "    <tr>\n",
              "      <th>6</th>\n",
              "      <td>2020-06-06 14:56:05</td>\n",
              "      <td>b'New Video LIVE. Check it out \\xf0\\x9f\\x91\\x8...</td>\n",
              "      <td>New Video LIVE Check it out xfxfxx nnYouTube V...</td>\n",
              "    </tr>\n",
              "    <tr>\n",
              "      <th>7</th>\n",
              "      <td>2020-06-06 14:48:55</td>\n",
              "      <td>b\"RT @myshutterlove: If you ask my opinion  ab...</td>\n",
              "      <td>If you ask my opinion  about YouTube vs TikTo...</td>\n",
              "    </tr>\n",
              "    <tr>\n",
              "      <th>8</th>\n",
              "      <td>2020-06-06 14:44:51</td>\n",
              "      <td>b'About 100 times watched #YAALGAR #carryminat...</td>\n",
              "      <td>About  times watched #YAALGA #carryminati n n#...</td>\n",
              "    </tr>\n",
              "    <tr>\n",
              "      <th>9</th>\n",
              "      <td>2020-06-06 14:36:35</td>\n",
              "      <td>b'RT @shadatsdayout: #Top3 Best #INTRO &amp;amp; #...</td>\n",
              "      <td>#Top Best #INTO amp #Outro Making #Apps for y...</td>\n",
              "    </tr>\n",
              "  </tbody>\n",
              "</table>\n",
              "</div>"
            ],
            "text/plain": [
              "             Timestamp  ...                                        clean_tweet\n",
              "0  2020-06-06 15:16:02  ...  YALGAA KO FATKAA  trailer   YALGAA EACTIONS  C...\n",
              "1  2020-06-06 15:10:28  ...  So much to thinkxfxfxxad to do to produce to a...\n",
              "2  2020-06-06 15:05:23  ...  Hey everyone help me to reach k subscribers Su...\n",
              "3  2020-06-06 15:03:44  ...  Carry  The Taste of Indiann#carryminati #Yalga...\n",
              "4  2020-06-06 15:03:21  ...   I dont know what will I say but #yalgaarho wi...\n",
              "5  2020-06-06 15:02:14  ...  Thanx for the best giftxfxfxxaaxfxfxxaxexdxaxe...\n",
              "6  2020-06-06 14:56:05  ...  New Video LIVE Check it out xfxfxx nnYouTube V...\n",
              "7  2020-06-06 14:48:55  ...   If you ask my opinion  about YouTube vs TikTo...\n",
              "8  2020-06-06 14:44:51  ...  About  times watched #YAALGA #carryminati n n#...\n",
              "9  2020-06-06 14:36:35  ...   #Top Best #INTO amp #Outro Making #Apps for y...\n",
              "\n",
              "[10 rows x 3 columns]"
            ]
          },
          "metadata": {
            "tags": []
          },
          "execution_count": 64
        }
      ]
    },
    {
      "cell_type": "markdown",
      "metadata": {
        "id": "HcaYneRA6Vti",
        "colab_type": "text"
      },
      "source": [
        "removing stopwords"
      ]
    },
    {
      "cell_type": "code",
      "metadata": {
        "id": "xt8zwL2YwAty",
        "colab_type": "code",
        "colab": {
          "base_uri": "https://localhost:8080/",
          "height": 206
        },
        "outputId": "27f02138-07c0-4ca9-95ed-4ec3de41fd61"
      },
      "source": [
        "stopwords_set = set(stopwords.words(\"english\"))\n",
        "cleaned_tweets = []\n",
        "\n",
        "for index, row in raw_data.iterrows():\n",
        "    \n",
        "    # filerting out all the stopwords \n",
        "    words_without_stopwords = [word for word in row.clean_tweet.split() if not word in stopwords_set]\n",
        "    \n",
        "    # finally creating tweets list of tuples containing stopwords(list) and sentimentType \n",
        "    cleaned_tweets.append(' '.join(words_without_stopwords))\n",
        "\n",
        "raw_data['clean_tweet'] = cleaned_tweets\n",
        "raw_data.head()"
      ],
      "execution_count": 65,
      "outputs": [
        {
          "output_type": "execute_result",
          "data": {
            "text/html": [
              "<div>\n",
              "<style scoped>\n",
              "    .dataframe tbody tr th:only-of-type {\n",
              "        vertical-align: middle;\n",
              "    }\n",
              "\n",
              "    .dataframe tbody tr th {\n",
              "        vertical-align: top;\n",
              "    }\n",
              "\n",
              "    .dataframe thead th {\n",
              "        text-align: right;\n",
              "    }\n",
              "</style>\n",
              "<table border=\"1\" class=\"dataframe\">\n",
              "  <thead>\n",
              "    <tr style=\"text-align: right;\">\n",
              "      <th></th>\n",
              "      <th>Timestamp</th>\n",
              "      <th>Tweet</th>\n",
              "      <th>clean_tweet</th>\n",
              "    </tr>\n",
              "  </thead>\n",
              "  <tbody>\n",
              "    <tr>\n",
              "      <th>0</th>\n",
              "      <td>2020-06-06 15:16:02</td>\n",
              "      <td>b'YALGAAR KO FATKAAR  trailer ||  YALGAAR REAC...</td>\n",
              "      <td>YALGAA KO FATKAA trailer YALGAA EACTIONS CAYMI...</td>\n",
              "    </tr>\n",
              "    <tr>\n",
              "      <th>1</th>\n",
              "      <td>2020-06-06 15:10:28</td>\n",
              "      <td>b'So much to think\\xf0\\x9f\\x92\\xad, to do, to ...</td>\n",
              "      <td>So much thinkxfxfxxad produce acquire enquire ...</td>\n",
              "    </tr>\n",
              "    <tr>\n",
              "      <th>2</th>\n",
              "      <td>2020-06-06 15:05:23</td>\n",
              "      <td>b\"Hey everyone, help me to reach 1k subscriber...</td>\n",
              "      <td>Hey everyone help reach k subscribers Subscrib...</td>\n",
              "    </tr>\n",
              "    <tr>\n",
              "      <th>3</th>\n",
              "      <td>2020-06-06 15:03:44</td>\n",
              "      <td>b'Carry - The Taste of India\\n\\n#carryminati #...</td>\n",
              "      <td>Carry The Taste Indiann#carryminati #Yalgaar #...</td>\n",
              "    </tr>\n",
              "    <tr>\n",
              "      <th>4</th>\n",
              "      <td>2020-06-06 15:03:21</td>\n",
              "      <td>b\"@swatic12 I don't know what will I say but #...</td>\n",
              "      <td>I dont know I say #yalgaarho definitely suit s...</td>\n",
              "    </tr>\n",
              "  </tbody>\n",
              "</table>\n",
              "</div>"
            ],
            "text/plain": [
              "             Timestamp  ...                                        clean_tweet\n",
              "0  2020-06-06 15:16:02  ...  YALGAA KO FATKAA trailer YALGAA EACTIONS CAYMI...\n",
              "1  2020-06-06 15:10:28  ...  So much thinkxfxfxxad produce acquire enquire ...\n",
              "2  2020-06-06 15:05:23  ...  Hey everyone help reach k subscribers Subscrib...\n",
              "3  2020-06-06 15:03:44  ...  Carry The Taste Indiann#carryminati #Yalgaar #...\n",
              "4  2020-06-06 15:03:21  ...  I dont know I say #yalgaarho definitely suit s...\n",
              "\n",
              "[5 rows x 3 columns]"
            ]
          },
          "metadata": {
            "tags": []
          },
          "execution_count": 65
        }
      ]
    },
    {
      "cell_type": "markdown",
      "metadata": {
        "id": "MP-sqMlwGyno",
        "colab_type": "text"
      },
      "source": [
        "lemmitization and tokenization\n"
      ]
    },
    {
      "cell_type": "code",
      "metadata": {
        "id": "iYOLXozTGsdR",
        "colab_type": "code",
        "colab": {
          "base_uri": "https://localhost:8080/",
          "height": 206
        },
        "outputId": "03f50db8-bf78-4dfa-f759-093cb8760d23"
      },
      "source": [
        "tokenized_tweet = raw_data['clean_tweet'].apply(lambda x: x.split())\n",
        "word_lemmatizer = WordNetLemmatizer()\n",
        "tokenized_tweet = tokenized_tweet.apply(lambda x: [word_lemmatizer.lemmatize(i) for i in x])\n",
        "#joining words into sentences \n",
        "for i, tokens in enumerate(tokenized_tweet):\n",
        "    tokenized_tweet[i] = ' '.join(tokens)\n",
        "\n",
        "raw_data['clean_tweet'] = tokenized_tweet\n",
        "raw_data.head()"
      ],
      "execution_count": 66,
      "outputs": [
        {
          "output_type": "execute_result",
          "data": {
            "text/html": [
              "<div>\n",
              "<style scoped>\n",
              "    .dataframe tbody tr th:only-of-type {\n",
              "        vertical-align: middle;\n",
              "    }\n",
              "\n",
              "    .dataframe tbody tr th {\n",
              "        vertical-align: top;\n",
              "    }\n",
              "\n",
              "    .dataframe thead th {\n",
              "        text-align: right;\n",
              "    }\n",
              "</style>\n",
              "<table border=\"1\" class=\"dataframe\">\n",
              "  <thead>\n",
              "    <tr style=\"text-align: right;\">\n",
              "      <th></th>\n",
              "      <th>Timestamp</th>\n",
              "      <th>Tweet</th>\n",
              "      <th>clean_tweet</th>\n",
              "    </tr>\n",
              "  </thead>\n",
              "  <tbody>\n",
              "    <tr>\n",
              "      <th>0</th>\n",
              "      <td>2020-06-06 15:16:02</td>\n",
              "      <td>b'YALGAAR KO FATKAAR  trailer ||  YALGAAR REAC...</td>\n",
              "      <td>YALGAA KO FATKAA trailer YALGAA EACTIONS CAYMI...</td>\n",
              "    </tr>\n",
              "    <tr>\n",
              "      <th>1</th>\n",
              "      <td>2020-06-06 15:10:28</td>\n",
              "      <td>b'So much to think\\xf0\\x9f\\x92\\xad, to do, to ...</td>\n",
              "      <td>So much thinkxfxfxxad produce acquire enquire ...</td>\n",
              "    </tr>\n",
              "    <tr>\n",
              "      <th>2</th>\n",
              "      <td>2020-06-06 15:05:23</td>\n",
              "      <td>b\"Hey everyone, help me to reach 1k subscriber...</td>\n",
              "      <td>Hey everyone help reach k subscriber Subscribe...</td>\n",
              "    </tr>\n",
              "    <tr>\n",
              "      <th>3</th>\n",
              "      <td>2020-06-06 15:03:44</td>\n",
              "      <td>b'Carry - The Taste of India\\n\\n#carryminati #...</td>\n",
              "      <td>Carry The Taste Indiann#carryminati #Yalgaar #...</td>\n",
              "    </tr>\n",
              "    <tr>\n",
              "      <th>4</th>\n",
              "      <td>2020-06-06 15:03:21</td>\n",
              "      <td>b\"@swatic12 I don't know what will I say but #...</td>\n",
              "      <td>I dont know I say #yalgaarho definitely suit s...</td>\n",
              "    </tr>\n",
              "  </tbody>\n",
              "</table>\n",
              "</div>"
            ],
            "text/plain": [
              "             Timestamp  ...                                        clean_tweet\n",
              "0  2020-06-06 15:16:02  ...  YALGAA KO FATKAA trailer YALGAA EACTIONS CAYMI...\n",
              "1  2020-06-06 15:10:28  ...  So much thinkxfxfxxad produce acquire enquire ...\n",
              "2  2020-06-06 15:05:23  ...  Hey everyone help reach k subscriber Subscribe...\n",
              "3  2020-06-06 15:03:44  ...  Carry The Taste Indiann#carryminati #Yalgaar #...\n",
              "4  2020-06-06 15:03:21  ...  I dont know I say #yalgaarho definitely suit s...\n",
              "\n",
              "[5 rows x 3 columns]"
            ]
          },
          "metadata": {
            "tags": []
          },
          "execution_count": 66
        }
      ]
    },
    {
      "cell_type": "markdown",
      "metadata": {
        "id": "Aq31Tx5bNIPh",
        "colab_type": "text"
      },
      "source": [
        "sentiment analysis using textblob\n"
      ]
    },
    {
      "cell_type": "code",
      "metadata": {
        "id": "MQtQV66WHZwp",
        "colab_type": "code",
        "colab": {
          "base_uri": "https://localhost:8080/",
          "height": 293
        },
        "outputId": "db444e12-667e-49a6-806d-4d1ad4d378d9"
      },
      "source": [
        "sentiment=[]\n",
        "for i in range(len(raw_data['clean_tweet'])):\n",
        "  sent = TextBlob(raw_data['clean_tweet'][i])\n",
        "  if (sent.sentiment.polarity > 0.0):\n",
        "    res = \"pos\"\n",
        "  elif (sent.sentiment.polarity <= 0.0):\n",
        "    res = \"Neg\"\n",
        "\n",
        "  sentiment.append(res)\n",
        "raw_data['Sentiment'] = sentiment\n",
        "raw_data.head()\n",
        "  "
      ],
      "execution_count": 67,
      "outputs": [
        {
          "output_type": "execute_result",
          "data": {
            "text/html": [
              "<div>\n",
              "<style scoped>\n",
              "    .dataframe tbody tr th:only-of-type {\n",
              "        vertical-align: middle;\n",
              "    }\n",
              "\n",
              "    .dataframe tbody tr th {\n",
              "        vertical-align: top;\n",
              "    }\n",
              "\n",
              "    .dataframe thead th {\n",
              "        text-align: right;\n",
              "    }\n",
              "</style>\n",
              "<table border=\"1\" class=\"dataframe\">\n",
              "  <thead>\n",
              "    <tr style=\"text-align: right;\">\n",
              "      <th></th>\n",
              "      <th>Timestamp</th>\n",
              "      <th>Tweet</th>\n",
              "      <th>clean_tweet</th>\n",
              "      <th>Sentiment</th>\n",
              "    </tr>\n",
              "  </thead>\n",
              "  <tbody>\n",
              "    <tr>\n",
              "      <th>0</th>\n",
              "      <td>2020-06-06 15:16:02</td>\n",
              "      <td>b'YALGAAR KO FATKAAR  trailer ||  YALGAAR REAC...</td>\n",
              "      <td>YALGAA KO FATKAA trailer YALGAA EACTIONS CAYMI...</td>\n",
              "      <td>Neg</td>\n",
              "    </tr>\n",
              "    <tr>\n",
              "      <th>1</th>\n",
              "      <td>2020-06-06 15:10:28</td>\n",
              "      <td>b'So much to think\\xf0\\x9f\\x92\\xad, to do, to ...</td>\n",
              "      <td>So much thinkxfxfxxad produce acquire enquire ...</td>\n",
              "      <td>pos</td>\n",
              "    </tr>\n",
              "    <tr>\n",
              "      <th>2</th>\n",
              "      <td>2020-06-06 15:05:23</td>\n",
              "      <td>b\"Hey everyone, help me to reach 1k subscriber...</td>\n",
              "      <td>Hey everyone help reach k subscriber Subscribe...</td>\n",
              "      <td>Neg</td>\n",
              "    </tr>\n",
              "    <tr>\n",
              "      <th>3</th>\n",
              "      <td>2020-06-06 15:03:44</td>\n",
              "      <td>b'Carry - The Taste of India\\n\\n#carryminati #...</td>\n",
              "      <td>Carry The Taste Indiann#carryminati #Yalgaar #...</td>\n",
              "      <td>Neg</td>\n",
              "    </tr>\n",
              "    <tr>\n",
              "      <th>4</th>\n",
              "      <td>2020-06-06 15:03:21</td>\n",
              "      <td>b\"@swatic12 I don't know what will I say but #...</td>\n",
              "      <td>I dont know I say #yalgaarho definitely suit s...</td>\n",
              "      <td>pos</td>\n",
              "    </tr>\n",
              "  </tbody>\n",
              "</table>\n",
              "</div>"
            ],
            "text/plain": [
              "             Timestamp  ... Sentiment\n",
              "0  2020-06-06 15:16:02  ...       Neg\n",
              "1  2020-06-06 15:10:28  ...       pos\n",
              "2  2020-06-06 15:05:23  ...       Neg\n",
              "3  2020-06-06 15:03:44  ...       Neg\n",
              "4  2020-06-06 15:03:21  ...       pos\n",
              "\n",
              "[5 rows x 4 columns]"
            ]
          },
          "metadata": {
            "tags": []
          },
          "execution_count": 67
        }
      ]
    },
    {
      "cell_type": "code",
      "metadata": {
        "id": "G73MRmOPN-5P",
        "colab_type": "code",
        "colab": {
          "base_uri": "https://localhost:8080/",
          "height": 86
        },
        "outputId": "1111911a-ad06-45da-8026-8f58bf5e657b"
      },
      "source": [
        "fig=raw_data['Sentiment'].value_counts()\n",
        "print(\"----sentiments----\")\n",
        "print(fig)"
      ],
      "execution_count": 68,
      "outputs": [
        {
          "output_type": "stream",
          "text": [
            "----sentiments----\n",
            "Neg    981\n",
            "pos    534\n",
            "Name: Sentiment, dtype: int64\n"
          ],
          "name": "stdout"
        }
      ]
    },
    {
      "cell_type": "code",
      "metadata": {
        "id": "dqSRcU2aQ62D",
        "colab_type": "code",
        "colab": {
          "base_uri": "https://localhost:8080/",
          "height": 404
        },
        "outputId": "1b670463-8cdf-4e7f-f530-4c7984da52c0"
      },
      "source": [
        "sent_type=['negative','positive']\n",
        "sent_count=[fig[0],fig[1]]\n",
        "plt.figure(figsize=(5,6))\n",
        "plt.bar(sent_type,sent_count,width=0.3)\n",
        "plt.title('Analysis result')\n",
        "plt.xlabel('sentiment')\n",
        "plt.ylabel('no. of tweets')\n",
        "plt.show()"
      ],
      "execution_count": 69,
      "outputs": [
        {
          "output_type": "display_data",
          "data": {
            "image/png": "[encoded data removed]",
            "text/plain": [
              "<Figure size 360x432 with 1 Axes>"
            ]
          },
          "metadata": {
            "tags": [],
            "needs_background": "light"
          }
        }
      ]
    },
    {
      "cell_type": "markdown",
      "metadata": {
        "id": "r9SeE_kHCzbK",
        "colab_type": "text"
      },
      "source": [
        "**another analysis**"
      ]
    },
    {
      "cell_type": "code",
      "metadata": {
        "id": "n0-ivlyyar2x",
        "colab_type": "code",
        "colab": {
          "base_uri": "https://localhost:8080/",
          "height": 206
        },
        "outputId": "6a31b111-06a6-4edf-faa6-ff9300d1baab"
      },
      "source": [
        "data2=pd.read_csv('/content/tweets2.csv')\n",
        "data2.columns = ['Timestamp','Tweet']\n",
        "data2.head()"
      ],
      "execution_count": 70,
      "outputs": [
        {
          "output_type": "execute_result",
          "data": {
            "text/html": [
              "<div>\n",
              "<style scoped>\n",
              "    .dataframe tbody tr th:only-of-type {\n",
              "        vertical-align: middle;\n",
              "    }\n",
              "\n",
              "    .dataframe tbody tr th {\n",
              "        vertical-align: top;\n",
              "    }\n",
              "\n",
              "    .dataframe thead th {\n",
              "        text-align: right;\n",
              "    }\n",
              "</style>\n",
              "<table border=\"1\" class=\"dataframe\">\n",
              "  <thead>\n",
              "    <tr style=\"text-align: right;\">\n",
              "      <th></th>\n",
              "      <th>Timestamp</th>\n",
              "      <th>Tweet</th>\n",
              "    </tr>\n",
              "  </thead>\n",
              "  <tbody>\n",
              "    <tr>\n",
              "      <th>0</th>\n",
              "      <td>2020-06-06 15:23:25</td>\n",
              "      <td>b'What sport are you playing the most during l...</td>\n",
              "    </tr>\n",
              "    <tr>\n",
              "      <th>1</th>\n",
              "      <td>2020-06-06 15:23:24</td>\n",
              "      <td>b'RT @Charlotte3003G: Well Robert, funny you s...</td>\n",
              "    </tr>\n",
              "    <tr>\n",
              "      <th>2</th>\n",
              "      <td>2020-06-06 15:23:21</td>\n",
              "      <td>b'However important they are, #BlackLivesMatte...</td>\n",
              "    </tr>\n",
              "    <tr>\n",
              "      <th>3</th>\n",
              "      <td>2020-06-06 15:23:05</td>\n",
              "      <td>b\"@Lisaismyname89 It's #True - read about it h...</td>\n",
              "    </tr>\n",
              "    <tr>\n",
              "      <th>4</th>\n",
              "      <td>2020-06-06 15:23:01</td>\n",
              "      <td>b'RT @sohosocietyw1: Checkout open air photoph...</td>\n",
              "    </tr>\n",
              "  </tbody>\n",
              "</table>\n",
              "</div>"
            ],
            "text/plain": [
              "             Timestamp                                              Tweet\n",
              "0  2020-06-06 15:23:25  b'What sport are you playing the most during l...\n",
              "1  2020-06-06 15:23:24  b'RT @Charlotte3003G: Well Robert, funny you s...\n",
              "2  2020-06-06 15:23:21  b'However important they are, #BlackLivesMatte...\n",
              "3  2020-06-06 15:23:05  b\"@Lisaismyname89 It's #True - read about it h...\n",
              "4  2020-06-06 15:23:01  b'RT @sohosocietyw1: Checkout open air photoph..."
            ]
          },
          "metadata": {
            "tags": []
          },
          "execution_count": 70
        }
      ]
    },
    {
      "cell_type": "markdown",
      "metadata": {
        "id": "He50rbwMDWe4",
        "colab_type": "text"
      },
      "source": [
        "preprocessing"
      ]
    },
    {
      "cell_type": "code",
      "metadata": {
        "id": "HSdv8G1gDIaH",
        "colab_type": "code",
        "colab": {
          "base_uri": "https://localhost:8080/",
          "height": 424
        },
        "outputId": "b5332432-6745-49d7-c1b5-266fbeba7aaa"
      },
      "source": [
        "#removing b from starting\n",
        "data2['clean_tweet'] = data2['Tweet'].str[1:]\n",
        "data2['clean_tweet'] = np.vectorize(remove_pattern)(data2['clean_tweet'], \"@[\\w]*: | *RT*\")\n",
        "data2['clean_tweet'] = np.vectorize(remove_pattern)(data2['clean_tweet'], \"@[A-Za-z0-9]+\")\n",
        "data2['clean_tweet'] = data2['clean_tweet'].str.replace(\"[^a-zA-Z# ]\", \"\")\n",
        "data2"
      ],
      "execution_count": 71,
      "outputs": [
        {
          "output_type": "execute_result",
          "data": {
            "text/html": [
              "<div>\n",
              "<style scoped>\n",
              "    .dataframe tbody tr th:only-of-type {\n",
              "        vertical-align: middle;\n",
              "    }\n",
              "\n",
              "    .dataframe tbody tr th {\n",
              "        vertical-align: top;\n",
              "    }\n",
              "\n",
              "    .dataframe thead th {\n",
              "        text-align: right;\n",
              "    }\n",
              "</style>\n",
              "<table border=\"1\" class=\"dataframe\">\n",
              "  <thead>\n",
              "    <tr style=\"text-align: right;\">\n",
              "      <th></th>\n",
              "      <th>Timestamp</th>\n",
              "      <th>Tweet</th>\n",
              "      <th>clean_tweet</th>\n",
              "    </tr>\n",
              "  </thead>\n",
              "  <tbody>\n",
              "    <tr>\n",
              "      <th>0</th>\n",
              "      <td>2020-06-06 15:23:25</td>\n",
              "      <td>b'What sport are you playing the most during l...</td>\n",
              "      <td>What sport are you playing the most during loc...</td>\n",
              "    </tr>\n",
              "    <tr>\n",
              "      <th>1</th>\n",
              "      <td>2020-06-06 15:23:24</td>\n",
              "      <td>b'RT @Charlotte3003G: Well Robert, funny you s...</td>\n",
              "      <td>Wellobert funny you should ask because the wa...</td>\n",
              "    </tr>\n",
              "    <tr>\n",
              "      <th>2</th>\n",
              "      <td>2020-06-06 15:23:21</td>\n",
              "      <td>b'However important they are, #BlackLivesMatte...</td>\n",
              "      <td>However important they are #BlackLivesMatter p...</td>\n",
              "    </tr>\n",
              "    <tr>\n",
              "      <th>3</th>\n",
              "      <td>2020-06-06 15:23:05</td>\n",
              "      <td>b\"@Lisaismyname89 It's #True - read about it h...</td>\n",
              "      <td>Its #True  read about it here via #WorldHealt...</td>\n",
              "    </tr>\n",
              "    <tr>\n",
              "      <th>4</th>\n",
              "      <td>2020-06-06 15:23:01</td>\n",
              "      <td>b'RT @sohosocietyw1: Checkout open air photoph...</td>\n",
              "      <td>Checkout open air photophay exhibition happen...</td>\n",
              "    </tr>\n",
              "    <tr>\n",
              "      <th>...</th>\n",
              "      <td>...</td>\n",
              "      <td>...</td>\n",
              "      <td>...</td>\n",
              "    </tr>\n",
              "    <tr>\n",
              "      <th>13753</th>\n",
              "      <td>2020-06-05 21:50:20</td>\n",
              "      <td>b\"The South West of England\\xe2\\x80\\x99s 'R' r...</td>\n",
              "      <td>The South West of Englandxexxs  rate has risen...</td>\n",
              "    </tr>\n",
              "    <tr>\n",
              "      <th>13754</th>\n",
              "      <td>2020-06-05 21:50:18</td>\n",
              "      <td>b\"@piersmorgan @flintoff11 F**k sake Piers. Fo...</td>\n",
              "      <td>Fk sake Piers For months youve multiple orga...</td>\n",
              "    </tr>\n",
              "    <tr>\n",
              "      <th>13755</th>\n",
              "      <td>2020-06-05 21:50:11</td>\n",
              "      <td>b'RT @MartinTolhurst1: We love hearing back fr...</td>\n",
              "      <td>We love hearing back from our clients In term...</td>\n",
              "    </tr>\n",
              "    <tr>\n",
              "      <th>13756</th>\n",
              "      <td>2020-06-05 21:50:02</td>\n",
              "      <td>b'RT @Bluestockingmum: I see #BorisHasFailedTh...</td>\n",
              "      <td>I see #BorisHasFailedTheNation is trending ag...</td>\n",
              "    </tr>\n",
              "    <tr>\n",
              "      <th>13757</th>\n",
              "      <td>2020-06-05 21:49:52</td>\n",
              "      <td>b'RT @Bluestockingmum: I see #BorisHasFailedTh...</td>\n",
              "      <td>I see #BorisHasFailedTheNation is trending ag...</td>\n",
              "    </tr>\n",
              "  </tbody>\n",
              "</table>\n",
              "<p>13758 rows × 3 columns</p>\n",
              "</div>"
            ],
            "text/plain": [
              "                 Timestamp  ...                                        clean_tweet\n",
              "0      2020-06-06 15:23:25  ...  What sport are you playing the most during loc...\n",
              "1      2020-06-06 15:23:24  ...   Wellobert funny you should ask because the wa...\n",
              "2      2020-06-06 15:23:21  ...  However important they are #BlackLivesMatter p...\n",
              "3      2020-06-06 15:23:05  ...   Its #True  read about it here via #WorldHealt...\n",
              "4      2020-06-06 15:23:01  ...   Checkout open air photophay exhibition happen...\n",
              "...                    ...  ...                                                ...\n",
              "13753  2020-06-05 21:50:20  ...  The South West of Englandxexxs  rate has risen...\n",
              "13754  2020-06-05 21:50:18  ...    Fk sake Piers For months youve multiple orga...\n",
              "13755  2020-06-05 21:50:11  ...   We love hearing back from our clients In term...\n",
              "13756  2020-06-05 21:50:02  ...   I see #BorisHasFailedTheNation is trending ag...\n",
              "13757  2020-06-05 21:49:52  ...   I see #BorisHasFailedTheNation is trending ag...\n",
              "\n",
              "[13758 rows x 3 columns]"
            ]
          },
          "metadata": {
            "tags": []
          },
          "execution_count": 71
        }
      ]
    },
    {
      "cell_type": "code",
      "metadata": {
        "id": "wdJhAKEbDzPp",
        "colab_type": "code",
        "colab": {
          "base_uri": "https://localhost:8080/",
          "height": 206
        },
        "outputId": "4dcedd1b-4ec5-41df-c95a-b55fe59ab741"
      },
      "source": [
        "cleaned_tweets = []\n",
        "\n",
        "for index, row in data2.iterrows():\n",
        "    \n",
        "    # filerting out all the stopwords \n",
        "    words_without_stopwords = [word for word in row.clean_tweet.split() if not word in stopwords_set]\n",
        "    \n",
        "    # finally creating tweets list of tuples containing stopwords(list) and sentimentType \n",
        "    cleaned_tweets.append(' '.join(words_without_stopwords))\n",
        "\n",
        "data2['clean_tweet'] = cleaned_tweets\n",
        "data2.head()"
      ],
      "execution_count": 72,
      "outputs": [
        {
          "output_type": "execute_result",
          "data": {
            "text/html": [
              "<div>\n",
              "<style scoped>\n",
              "    .dataframe tbody tr th:only-of-type {\n",
              "        vertical-align: middle;\n",
              "    }\n",
              "\n",
              "    .dataframe tbody tr th {\n",
              "        vertical-align: top;\n",
              "    }\n",
              "\n",
              "    .dataframe thead th {\n",
              "        text-align: right;\n",
              "    }\n",
              "</style>\n",
              "<table border=\"1\" class=\"dataframe\">\n",
              "  <thead>\n",
              "    <tr style=\"text-align: right;\">\n",
              "      <th></th>\n",
              "      <th>Timestamp</th>\n",
              "      <th>Tweet</th>\n",
              "      <th>clean_tweet</th>\n",
              "    </tr>\n",
              "  </thead>\n",
              "  <tbody>\n",
              "    <tr>\n",
              "      <th>0</th>\n",
              "      <td>2020-06-06 15:23:25</td>\n",
              "      <td>b'What sport are you playing the most during l...</td>\n",
              "      <td>What sport playing lockdown From sports allowe...</td>\n",
              "    </tr>\n",
              "    <tr>\n",
              "      <th>1</th>\n",
              "      <td>2020-06-06 15:23:24</td>\n",
              "      <td>b'RT @Charlotte3003G: Well Robert, funny you s...</td>\n",
              "      <td>Wellobert funny ask way guarantee second wave ...</td>\n",
              "    </tr>\n",
              "    <tr>\n",
              "      <th>2</th>\n",
              "      <td>2020-06-06 15:23:21</td>\n",
              "      <td>b'However important they are, #BlackLivesMatte...</td>\n",
              "      <td>However important #BlackLivesMatter protests m...</td>\n",
              "    </tr>\n",
              "    <tr>\n",
              "      <th>3</th>\n",
              "      <td>2020-06-06 15:23:05</td>\n",
              "      <td>b\"@Lisaismyname89 It's #True - read about it h...</td>\n",
              "      <td>Its #True read via #WorldHealthOrganization #W...</td>\n",
              "    </tr>\n",
              "    <tr>\n",
              "      <th>4</th>\n",
              "      <td>2020-06-06 15:23:01</td>\n",
              "      <td>b'RT @sohosocietyw1: Checkout open air photoph...</td>\n",
              "      <td>Checkout open air photophay exhibition happeni...</td>\n",
              "    </tr>\n",
              "  </tbody>\n",
              "</table>\n",
              "</div>"
            ],
            "text/plain": [
              "             Timestamp  ...                                        clean_tweet\n",
              "0  2020-06-06 15:23:25  ...  What sport playing lockdown From sports allowe...\n",
              "1  2020-06-06 15:23:24  ...  Wellobert funny ask way guarantee second wave ...\n",
              "2  2020-06-06 15:23:21  ...  However important #BlackLivesMatter protests m...\n",
              "3  2020-06-06 15:23:05  ...  Its #True read via #WorldHealthOrganization #W...\n",
              "4  2020-06-06 15:23:01  ...  Checkout open air photophay exhibition happeni...\n",
              "\n",
              "[5 rows x 3 columns]"
            ]
          },
          "metadata": {
            "tags": []
          },
          "execution_count": 72
        }
      ]
    },
    {
      "cell_type": "code",
      "metadata": {
        "id": "MZSZhI1PEgYe",
        "colab_type": "code",
        "colab": {
          "base_uri": "https://localhost:8080/",
          "height": 206
        },
        "outputId": "23cd9664-24a8-405d-eefc-1466eaa69c26"
      },
      "source": [
        "tokenized_tweet = data2['clean_tweet'].apply(lambda x: x.split())\n",
        "word_lemmatizer = WordNetLemmatizer()\n",
        "tokenized_tweet = tokenized_tweet.apply(lambda x: [word_lemmatizer.lemmatize(i) for i in x])\n",
        "#joining words into sentences \n",
        "for i, tokens in enumerate(tokenized_tweet):\n",
        "    tokenized_tweet[i] = ' '.join(tokens)\n",
        "\n",
        "data2['clean_tweet'] = tokenized_tweet\n",
        "data2.head()"
      ],
      "execution_count": 73,
      "outputs": [
        {
          "output_type": "execute_result",
          "data": {
            "text/html": [
              "<div>\n",
              "<style scoped>\n",
              "    .dataframe tbody tr th:only-of-type {\n",
              "        vertical-align: middle;\n",
              "    }\n",
              "\n",
              "    .dataframe tbody tr th {\n",
              "        vertical-align: top;\n",
              "    }\n",
              "\n",
              "    .dataframe thead th {\n",
              "        text-align: right;\n",
              "    }\n",
              "</style>\n",
              "<table border=\"1\" class=\"dataframe\">\n",
              "  <thead>\n",
              "    <tr style=\"text-align: right;\">\n",
              "      <th></th>\n",
              "      <th>Timestamp</th>\n",
              "      <th>Tweet</th>\n",
              "      <th>clean_tweet</th>\n",
              "    </tr>\n",
              "  </thead>\n",
              "  <tbody>\n",
              "    <tr>\n",
              "      <th>0</th>\n",
              "      <td>2020-06-06 15:23:25</td>\n",
              "      <td>b'What sport are you playing the most during l...</td>\n",
              "      <td>What sport playing lockdown From sport allowed...</td>\n",
              "    </tr>\n",
              "    <tr>\n",
              "      <th>1</th>\n",
              "      <td>2020-06-06 15:23:24</td>\n",
              "      <td>b'RT @Charlotte3003G: Well Robert, funny you s...</td>\n",
              "      <td>Wellobert funny ask way guarantee second wave ...</td>\n",
              "    </tr>\n",
              "    <tr>\n",
              "      <th>2</th>\n",
              "      <td>2020-06-06 15:23:21</td>\n",
              "      <td>b'However important they are, #BlackLivesMatte...</td>\n",
              "      <td>However important #BlackLivesMatter protest mu...</td>\n",
              "    </tr>\n",
              "    <tr>\n",
              "      <th>3</th>\n",
              "      <td>2020-06-06 15:23:05</td>\n",
              "      <td>b\"@Lisaismyname89 It's #True - read about it h...</td>\n",
              "      <td>Its #True read via #WorldHealthOrganization #W...</td>\n",
              "    </tr>\n",
              "    <tr>\n",
              "      <th>4</th>\n",
              "      <td>2020-06-06 15:23:01</td>\n",
              "      <td>b'RT @sohosocietyw1: Checkout open air photoph...</td>\n",
              "      <td>Checkout open air photophay exhibition happeni...</td>\n",
              "    </tr>\n",
              "  </tbody>\n",
              "</table>\n",
              "</div>"
            ],
            "text/plain": [
              "             Timestamp  ...                                        clean_tweet\n",
              "0  2020-06-06 15:23:25  ...  What sport playing lockdown From sport allowed...\n",
              "1  2020-06-06 15:23:24  ...  Wellobert funny ask way guarantee second wave ...\n",
              "2  2020-06-06 15:23:21  ...  However important #BlackLivesMatter protest mu...\n",
              "3  2020-06-06 15:23:05  ...  Its #True read via #WorldHealthOrganization #W...\n",
              "4  2020-06-06 15:23:01  ...  Checkout open air photophay exhibition happeni...\n",
              "\n",
              "[5 rows x 3 columns]"
            ]
          },
          "metadata": {
            "tags": []
          },
          "execution_count": 73
        }
      ]
    },
    {
      "cell_type": "code",
      "metadata": {
        "id": "XsGDtuMbEz3D",
        "colab_type": "code",
        "colab": {
          "base_uri": "https://localhost:8080/",
          "height": 206
        },
        "outputId": "9f5ab501-9735-4130-accc-17f6198012ff"
      },
      "source": [
        "sentiment=[]\n",
        "for i in range(len(data2['clean_tweet'])):\n",
        "  sent = TextBlob(data2['clean_tweet'][i])\n",
        "  if (sent.sentiment.polarity > 0.0):\n",
        "    res = \"pos\"\n",
        "  elif (sent.sentiment.polarity <= 0.0):\n",
        "    res = \"Neg\"\n",
        "\n",
        "  sentiment.append(res)\n",
        "data2['Sentiment'] = sentiment\n",
        "data2.head()\n",
        "  "
      ],
      "execution_count": 74,
      "outputs": [
        {
          "output_type": "execute_result",
          "data": {
            "text/html": [
              "<div>\n",
              "<style scoped>\n",
              "    .dataframe tbody tr th:only-of-type {\n",
              "        vertical-align: middle;\n",
              "    }\n",
              "\n",
              "    .dataframe tbody tr th {\n",
              "        vertical-align: top;\n",
              "    }\n",
              "\n",
              "    .dataframe thead th {\n",
              "        text-align: right;\n",
              "    }\n",
              "</style>\n",
              "<table border=\"1\" class=\"dataframe\">\n",
              "  <thead>\n",
              "    <tr style=\"text-align: right;\">\n",
              "      <th></th>\n",
              "      <th>Timestamp</th>\n",
              "      <th>Tweet</th>\n",
              "      <th>clean_tweet</th>\n",
              "      <th>Sentiment</th>\n",
              "    </tr>\n",
              "  </thead>\n",
              "  <tbody>\n",
              "    <tr>\n",
              "      <th>0</th>\n",
              "      <td>2020-06-06 15:23:25</td>\n",
              "      <td>b'What sport are you playing the most during l...</td>\n",
              "      <td>What sport playing lockdown From sport allowed...</td>\n",
              "      <td>Neg</td>\n",
              "    </tr>\n",
              "    <tr>\n",
              "      <th>1</th>\n",
              "      <td>2020-06-06 15:23:24</td>\n",
              "      <td>b'RT @Charlotte3003G: Well Robert, funny you s...</td>\n",
              "      <td>Wellobert funny ask way guarantee second wave ...</td>\n",
              "      <td>pos</td>\n",
              "    </tr>\n",
              "    <tr>\n",
              "      <th>2</th>\n",
              "      <td>2020-06-06 15:23:21</td>\n",
              "      <td>b'However important they are, #BlackLivesMatte...</td>\n",
              "      <td>However important #BlackLivesMatter protest mu...</td>\n",
              "      <td>pos</td>\n",
              "    </tr>\n",
              "    <tr>\n",
              "      <th>3</th>\n",
              "      <td>2020-06-06 15:23:05</td>\n",
              "      <td>b\"@Lisaismyname89 It's #True - read about it h...</td>\n",
              "      <td>Its #True read via #WorldHealthOrganization #W...</td>\n",
              "      <td>pos</td>\n",
              "    </tr>\n",
              "    <tr>\n",
              "      <th>4</th>\n",
              "      <td>2020-06-06 15:23:01</td>\n",
              "      <td>b'RT @sohosocietyw1: Checkout open air photoph...</td>\n",
              "      <td>Checkout open air photophay exhibition happeni...</td>\n",
              "      <td>Neg</td>\n",
              "    </tr>\n",
              "  </tbody>\n",
              "</table>\n",
              "</div>"
            ],
            "text/plain": [
              "             Timestamp  ... Sentiment\n",
              "0  2020-06-06 15:23:25  ...       Neg\n",
              "1  2020-06-06 15:23:24  ...       pos\n",
              "2  2020-06-06 15:23:21  ...       pos\n",
              "3  2020-06-06 15:23:05  ...       pos\n",
              "4  2020-06-06 15:23:01  ...       Neg\n",
              "\n",
              "[5 rows x 4 columns]"
            ]
          },
          "metadata": {
            "tags": []
          },
          "execution_count": 74
        }
      ]
    },
    {
      "cell_type": "code",
      "metadata": {
        "id": "c17POIMJFBXR",
        "colab_type": "code",
        "colab": {
          "base_uri": "https://localhost:8080/",
          "height": 86
        },
        "outputId": "81a73179-dc53-46a1-cefa-20b39f1dc5bd"
      },
      "source": [
        "fig2=data2['Sentiment'].value_counts()\n",
        "print(\"----sentiments----\")\n",
        "print(fig2)"
      ],
      "execution_count": 75,
      "outputs": [
        {
          "output_type": "stream",
          "text": [
            "----sentiments----\n",
            "Neg    8401\n",
            "pos    5357\n",
            "Name: Sentiment, dtype: int64\n"
          ],
          "name": "stdout"
        }
      ]
    },
    {
      "cell_type": "code",
      "metadata": {
        "id": "gYIxGgx8FKeZ",
        "colab_type": "code",
        "colab": {
          "base_uri": "https://localhost:8080/",
          "height": 265
        },
        "outputId": "44bcf314-ba19-43a4-ba09-576225dc46fa"
      },
      "source": [
        "x=[fig2[0],fig2[1]]\n",
        "plt.pie(x,labels=('negative','positive'),autopct='%1.2f%%',colors=['red','green'])\n",
        "plt.legend(loc='best')\n",
        "plt.show\n"
      ],
      "execution_count": 76,
      "outputs": [
        {
          "output_type": "execute_result",
          "data": {
            "text/plain": [
              "<function matplotlib.pyplot.show>"
            ]
          },
          "metadata": {
            "tags": []
          },
          "execution_count": 76
        },
        {
          "output_type": "display_data",
          "data": {
            "image/png": "[encoded data removed]",
            "text/plain": [
              "<Figure size 432x288 with 1 Axes>"
            ]
          },
          "metadata": {
            "tags": []
          }
        }
      ]
    }
  ]
}